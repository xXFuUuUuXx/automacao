{
 "cells": [
  {
   "cell_type": "markdown",
   "metadata": {},
   "source": [
    "#projeto de automação"
   ]
  },
  {
   "cell_type": "markdown",
   "metadata": {},
   "source": [
    "##buscando dados dados de uma ação"
   ]
  },
  {
   "cell_type": "code",
   "execution_count": 31,
   "metadata": {},
   "outputs": [
    {
     "name": "stdout",
     "output_type": "stream",
     "text": [
      "PETRA4.SA\n"
     ]
    },
    {
     "name": "stderr",
     "output_type": "stream",
     "text": [
      "$PETRA4.SA: possibly delisted; No timezone found\n"
     ]
    }
   ],
   "source": [
    "import yfinance\n",
    "from datetime import datetime\n",
    "\n",
    "acao = input('Qual a ação desejada?: ')\n",
    "print(acao)\n",
    "data_i = input('Digite a data incial  no seguinte formato dia/mês/ano')\n",
    "#transformei a data digitada no formato date para uso futuro\n",
    "data_inicial = datetime.strptime(data_i,\"%d/%m/%Y\")\n",
    "#pego somente a parte da data\n",
    "dia_i = data_inicial.date()\n",
    "#print(dia_i)\n",
    "#transformo em string\n",
    "dia_i_s = str(dia_i)\n",
    "#print(dia_i_s)\n",
    "data_f = input('Digite a data final no seguinte formato dia/mês/ano')\n",
    "data_final = datetime.strptime(data_f,\"%d/%m/%Y\")\n",
    "dia_f = data_final.date()\n",
    "#print(dia_f)\n",
    "dia_f_s = str(dia_f)\n",
    "dados = yfinance.Ticker(acao)\n",
    "#tabela = dados.history(start=dia_i_s, end=dia_f_s)\n",
    "tabela = yfinance.Ticker(\"PETRA4.SA\").history(start=\"2020-01-01\", end=\"2020-12-31\")\n",
    "\n"
   ]
  },
  {
   "cell_type": "markdown",
   "metadata": {},
   "source": [
    "#a aoutra parte"
   ]
  },
  {
   "cell_type": "code",
   "execution_count": null,
   "metadata": {},
   "outputs": [],
   "source": []
  }
 ],
 "metadata": {
  "kernelspec": {
   "display_name": "Python 3",
   "language": "python",
   "name": "python3"
  },
  "language_info": {
   "codemirror_mode": {
    "name": "ipython",
    "version": 3
   },
   "file_extension": ".py",
   "mimetype": "text/x-python",
   "name": "python",
   "nbconvert_exporter": "python",
   "pygments_lexer": "ipython3",
   "version": "3.12.4"
  }
 },
 "nbformat": 4,
 "nbformat_minor": 2
}
